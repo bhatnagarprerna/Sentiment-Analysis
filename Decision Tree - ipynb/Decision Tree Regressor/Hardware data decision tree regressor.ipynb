{
 "cells": [
  {
   "cell_type": "markdown",
   "id": "e6a19758",
   "metadata": {},
   "source": [
    "# Application of Analytics"
   ]
  },
  {
   "cell_type": "markdown",
   "id": "ed59bb6a",
   "metadata": {},
   "source": [
    "# Problem Statement\n",
    "1. Fit a Decision Tree Regressor model on the data. \n",
    "2. The training and testing accuracy of your model. So do split the data before modelling.\n",
    "\n",
    "- Lastly, a function where i can input my values and get a prediction of whatever we are trying to predict. Think this through !!.\n",
    "\n",
    "![](https://media.tenor.com/mUVjXo5LhsQAAAAC/kakashi-yes.gif)"
   ]
  },
  {
   "cell_type": "code",
   "execution_count": 2,
   "id": "19a73ad6",
   "metadata": {},
   "outputs": [],
   "source": [
    "import pandas as pd"
   ]
  },
  {
   "cell_type": "code",
   "execution_count": 3,
   "id": "108321e0",
   "metadata": {},
   "outputs": [],
   "source": [
    "df= pd.read_csv(\"hardware.csv\")"
   ]
  },
  {
   "cell_type": "code",
   "execution_count": 4,
   "id": "c590a175",
   "metadata": {
    "scrolled": true
   },
   "outputs": [
    {
     "data": {
      "text/html": [
       "<div>\n",
       "<style scoped>\n",
       "    .dataframe tbody tr th:only-of-type {\n",
       "        vertical-align: middle;\n",
       "    }\n",
       "\n",
       "    .dataframe tbody tr th {\n",
       "        vertical-align: top;\n",
       "    }\n",
       "\n",
       "    .dataframe thead th {\n",
       "        text-align: right;\n",
       "    }\n",
       "</style>\n",
       "<table border=\"1\" class=\"dataframe\">\n",
       "  <thead>\n",
       "    <tr style=\"text-align: right;\">\n",
       "      <th></th>\n",
       "      <th>CATEGORY_ID</th>\n",
       "      <th>CATEGORY_NAME</th>\n",
       "      <th>PRODUCT_ID</th>\n",
       "      <th>PRODUCT_NAME</th>\n",
       "      <th>DESCRIPTION</th>\n",
       "      <th>DESCRIPTION - Detail 1</th>\n",
       "      <th>DESCRIPTION - Detail 2</th>\n",
       "      <th>DESCRIPTION - Detail 3</th>\n",
       "      <th>DESCRIPTION - Detail 4</th>\n",
       "      <th>STANDARD_COST</th>\n",
       "      <th>...</th>\n",
       "      <th>REGION_ID</th>\n",
       "      <th>LOCATION_ID</th>\n",
       "      <th>WAREHOUSE_ID</th>\n",
       "      <th>QUANTITY</th>\n",
       "      <th>WAREHOUSE_NAME</th>\n",
       "      <th>ADDRESS</th>\n",
       "      <th>POSTAL_CODE</th>\n",
       "      <th>CITY</th>\n",
       "      <th>STATE</th>\n",
       "      <th>COUNTRY_NAME</th>\n",
       "    </tr>\n",
       "  </thead>\n",
       "  <tbody>\n",
       "    <tr>\n",
       "      <th>0</th>\n",
       "      <td>1</td>\n",
       "      <td>CPU</td>\n",
       "      <td>8</td>\n",
       "      <td>Intel Xeon E5-1650 V4</td>\n",
       "      <td>Speed:3.6GHz,Cores:6,TDP:140W</td>\n",
       "      <td>Speed:3.6GHz</td>\n",
       "      <td>Cores:6</td>\n",
       "      <td>TDP:140W</td>\n",
       "      <td>NaN</td>\n",
       "      <td>535.47</td>\n",
       "      <td>...</td>\n",
       "      <td>3</td>\n",
       "      <td>11</td>\n",
       "      <td>8</td>\n",
       "      <td>50</td>\n",
       "      <td>Beijing</td>\n",
       "      <td>40-5-12 Laogianggen</td>\n",
       "      <td>190518</td>\n",
       "      <td>Beijing</td>\n",
       "      <td>Shenzhen</td>\n",
       "      <td>China</td>\n",
       "    </tr>\n",
       "    <tr>\n",
       "      <th>1</th>\n",
       "      <td>1</td>\n",
       "      <td>CPU</td>\n",
       "      <td>8</td>\n",
       "      <td>Intel Xeon E5-1650 V4</td>\n",
       "      <td>Speed:3.6GHz,Cores:6,TDP:140W</td>\n",
       "      <td>Speed:3.6GHz</td>\n",
       "      <td>Cores:6</td>\n",
       "      <td>TDP:140W</td>\n",
       "      <td>NaN</td>\n",
       "      <td>535.47</td>\n",
       "      <td>...</td>\n",
       "      <td>3</td>\n",
       "      <td>12</td>\n",
       "      <td>9</td>\n",
       "      <td>36</td>\n",
       "      <td>Bombay</td>\n",
       "      <td>1298 Vileparle (E)</td>\n",
       "      <td>490231</td>\n",
       "      <td>Bombay</td>\n",
       "      <td>Maharashtra</td>\n",
       "      <td>India</td>\n",
       "    </tr>\n",
       "    <tr>\n",
       "      <th>2</th>\n",
       "      <td>1</td>\n",
       "      <td>CPU</td>\n",
       "      <td>8</td>\n",
       "      <td>Intel Xeon E5-1650 V4</td>\n",
       "      <td>Speed:3.6GHz,Cores:6,TDP:140W</td>\n",
       "      <td>Speed:3.6GHz</td>\n",
       "      <td>Cores:6</td>\n",
       "      <td>TDP:140W</td>\n",
       "      <td>NaN</td>\n",
       "      <td>535.47</td>\n",
       "      <td>...</td>\n",
       "      <td>2</td>\n",
       "      <td>6</td>\n",
       "      <td>2</td>\n",
       "      <td>97</td>\n",
       "      <td>San Francisco</td>\n",
       "      <td>2011 Interiors Blvd</td>\n",
       "      <td>99236</td>\n",
       "      <td>South San Francisco</td>\n",
       "      <td>California</td>\n",
       "      <td>United States of America</td>\n",
       "    </tr>\n",
       "    <tr>\n",
       "      <th>3</th>\n",
       "      <td>1</td>\n",
       "      <td>CPU</td>\n",
       "      <td>8</td>\n",
       "      <td>Intel Xeon E5-1650 V4</td>\n",
       "      <td>Speed:3.6GHz,Cores:6,TDP:140W</td>\n",
       "      <td>Speed:3.6GHz</td>\n",
       "      <td>Cores:6</td>\n",
       "      <td>TDP:140W</td>\n",
       "      <td>NaN</td>\n",
       "      <td>535.47</td>\n",
       "      <td>...</td>\n",
       "      <td>2</td>\n",
       "      <td>8</td>\n",
       "      <td>4</td>\n",
       "      <td>67</td>\n",
       "      <td>Seattle, Washington</td>\n",
       "      <td>2004 Charade Rd</td>\n",
       "      <td>98199</td>\n",
       "      <td>Seattle</td>\n",
       "      <td>Washington</td>\n",
       "      <td>United States of America</td>\n",
       "    </tr>\n",
       "    <tr>\n",
       "      <th>4</th>\n",
       "      <td>1</td>\n",
       "      <td>CPU</td>\n",
       "      <td>8</td>\n",
       "      <td>Intel Xeon E5-1650 V4</td>\n",
       "      <td>Speed:3.6GHz,Cores:6,TDP:140W</td>\n",
       "      <td>Speed:3.6GHz</td>\n",
       "      <td>Cores:6</td>\n",
       "      <td>TDP:140W</td>\n",
       "      <td>NaN</td>\n",
       "      <td>535.47</td>\n",
       "      <td>...</td>\n",
       "      <td>3</td>\n",
       "      <td>13</td>\n",
       "      <td>6</td>\n",
       "      <td>30</td>\n",
       "      <td>Sydney</td>\n",
       "      <td>12-98 Victoria Street</td>\n",
       "      <td>2901</td>\n",
       "      <td>Sydney</td>\n",
       "      <td>New South Wales</td>\n",
       "      <td>Australia</td>\n",
       "    </tr>\n",
       "    <tr>\n",
       "      <th>...</th>\n",
       "      <td>...</td>\n",
       "      <td>...</td>\n",
       "      <td>...</td>\n",
       "      <td>...</td>\n",
       "      <td>...</td>\n",
       "      <td>...</td>\n",
       "      <td>...</td>\n",
       "      <td>...</td>\n",
       "      <td>...</td>\n",
       "      <td>...</td>\n",
       "      <td>...</td>\n",
       "      <td>...</td>\n",
       "      <td>...</td>\n",
       "      <td>...</td>\n",
       "      <td>...</td>\n",
       "      <td>...</td>\n",
       "      <td>...</td>\n",
       "      <td>...</td>\n",
       "      <td>...</td>\n",
       "      <td>...</td>\n",
       "      <td>...</td>\n",
       "    </tr>\n",
       "    <tr>\n",
       "      <th>1107</th>\n",
       "      <td>5</td>\n",
       "      <td>Storage</td>\n",
       "      <td>273</td>\n",
       "      <td>Western Digital WD101KRYZ</td>\n",
       "      <td>Series:Gold,Type:7200RPM,Capacity:10TB,Cache:2...</td>\n",
       "      <td>Series:Gold</td>\n",
       "      <td>Type:7200RPM</td>\n",
       "      <td>Capacity:10TB</td>\n",
       "      <td>Cache:256MB</td>\n",
       "      <td>313.96</td>\n",
       "      <td>...</td>\n",
       "      <td>2</td>\n",
       "      <td>23</td>\n",
       "      <td>7</td>\n",
       "      <td>170</td>\n",
       "      <td>Mexico City</td>\n",
       "      <td>Mariano Escobedo 9991</td>\n",
       "      <td>11932</td>\n",
       "      <td>Monterrey</td>\n",
       "      <td>Nuevo León</td>\n",
       "      <td>Mexico</td>\n",
       "    </tr>\n",
       "    <tr>\n",
       "      <th>1108</th>\n",
       "      <td>5</td>\n",
       "      <td>Storage</td>\n",
       "      <td>273</td>\n",
       "      <td>Western Digital WD101KRYZ</td>\n",
       "      <td>Series:Gold,Type:7200RPM,Capacity:10TB,Cache:2...</td>\n",
       "      <td>Series:Gold</td>\n",
       "      <td>Type:7200RPM</td>\n",
       "      <td>Capacity:10TB</td>\n",
       "      <td>Cache:256MB</td>\n",
       "      <td>313.96</td>\n",
       "      <td>...</td>\n",
       "      <td>3</td>\n",
       "      <td>11</td>\n",
       "      <td>8</td>\n",
       "      <td>156</td>\n",
       "      <td>Beijing</td>\n",
       "      <td>40-5-12 Laogianggen</td>\n",
       "      <td>190518</td>\n",
       "      <td>Beijing</td>\n",
       "      <td>Shenzhen</td>\n",
       "      <td>China</td>\n",
       "    </tr>\n",
       "    <tr>\n",
       "      <th>1109</th>\n",
       "      <td>5</td>\n",
       "      <td>Storage</td>\n",
       "      <td>273</td>\n",
       "      <td>Western Digital WD101KRYZ</td>\n",
       "      <td>Series:Gold,Type:7200RPM,Capacity:10TB,Cache:2...</td>\n",
       "      <td>Series:Gold</td>\n",
       "      <td>Type:7200RPM</td>\n",
       "      <td>Capacity:10TB</td>\n",
       "      <td>Cache:256MB</td>\n",
       "      <td>313.96</td>\n",
       "      <td>...</td>\n",
       "      <td>2</td>\n",
       "      <td>6</td>\n",
       "      <td>2</td>\n",
       "      <td>264</td>\n",
       "      <td>San Francisco</td>\n",
       "      <td>2011 Interiors Blvd</td>\n",
       "      <td>99236</td>\n",
       "      <td>South San Francisco</td>\n",
       "      <td>California</td>\n",
       "      <td>United States of America</td>\n",
       "    </tr>\n",
       "    <tr>\n",
       "      <th>1110</th>\n",
       "      <td>5</td>\n",
       "      <td>Storage</td>\n",
       "      <td>273</td>\n",
       "      <td>Western Digital WD101KRYZ</td>\n",
       "      <td>Series:Gold,Type:7200RPM,Capacity:10TB,Cache:2...</td>\n",
       "      <td>Series:Gold</td>\n",
       "      <td>Type:7200RPM</td>\n",
       "      <td>Capacity:10TB</td>\n",
       "      <td>Cache:256MB</td>\n",
       "      <td>313.96</td>\n",
       "      <td>...</td>\n",
       "      <td>2</td>\n",
       "      <td>9</td>\n",
       "      <td>5</td>\n",
       "      <td>199</td>\n",
       "      <td>Toronto</td>\n",
       "      <td>147 Spadina Ave</td>\n",
       "      <td>M5V 2L7</td>\n",
       "      <td>Toronto</td>\n",
       "      <td>Ontario</td>\n",
       "      <td>Canada</td>\n",
       "    </tr>\n",
       "    <tr>\n",
       "      <th>1111</th>\n",
       "      <td>5</td>\n",
       "      <td>Storage</td>\n",
       "      <td>273</td>\n",
       "      <td>Western Digital WD101KRYZ</td>\n",
       "      <td>Series:Gold,Type:7200RPM,Capacity:10TB,Cache:2...</td>\n",
       "      <td>Series:Gold</td>\n",
       "      <td>Type:7200RPM</td>\n",
       "      <td>Capacity:10TB</td>\n",
       "      <td>Cache:256MB</td>\n",
       "      <td>313.96</td>\n",
       "      <td>...</td>\n",
       "      <td>3</td>\n",
       "      <td>13</td>\n",
       "      <td>6</td>\n",
       "      <td>184</td>\n",
       "      <td>Sydney</td>\n",
       "      <td>12-98 Victoria Street</td>\n",
       "      <td>2901</td>\n",
       "      <td>Sydney</td>\n",
       "      <td>New South Wales</td>\n",
       "      <td>Australia</td>\n",
       "    </tr>\n",
       "  </tbody>\n",
       "</table>\n",
       "<p>1112 rows × 22 columns</p>\n",
       "</div>"
      ],
      "text/plain": [
       "      CATEGORY_ID CATEGORY_NAME  PRODUCT_ID               PRODUCT_NAME  \\\n",
       "0               1           CPU           8      Intel Xeon E5-1650 V4   \n",
       "1               1           CPU           8      Intel Xeon E5-1650 V4   \n",
       "2               1           CPU           8      Intel Xeon E5-1650 V4   \n",
       "3               1           CPU           8      Intel Xeon E5-1650 V4   \n",
       "4               1           CPU           8      Intel Xeon E5-1650 V4   \n",
       "...           ...           ...         ...                        ...   \n",
       "1107            5       Storage         273  Western Digital WD101KRYZ   \n",
       "1108            5       Storage         273  Western Digital WD101KRYZ   \n",
       "1109            5       Storage         273  Western Digital WD101KRYZ   \n",
       "1110            5       Storage         273  Western Digital WD101KRYZ   \n",
       "1111            5       Storage         273  Western Digital WD101KRYZ   \n",
       "\n",
       "                                            DESCRIPTION  \\\n",
       "0                         Speed:3.6GHz,Cores:6,TDP:140W   \n",
       "1                         Speed:3.6GHz,Cores:6,TDP:140W   \n",
       "2                         Speed:3.6GHz,Cores:6,TDP:140W   \n",
       "3                         Speed:3.6GHz,Cores:6,TDP:140W   \n",
       "4                         Speed:3.6GHz,Cores:6,TDP:140W   \n",
       "...                                                 ...   \n",
       "1107  Series:Gold,Type:7200RPM,Capacity:10TB,Cache:2...   \n",
       "1108  Series:Gold,Type:7200RPM,Capacity:10TB,Cache:2...   \n",
       "1109  Series:Gold,Type:7200RPM,Capacity:10TB,Cache:2...   \n",
       "1110  Series:Gold,Type:7200RPM,Capacity:10TB,Cache:2...   \n",
       "1111  Series:Gold,Type:7200RPM,Capacity:10TB,Cache:2...   \n",
       "\n",
       "     DESCRIPTION - Detail 1 DESCRIPTION - Detail 2 DESCRIPTION - Detail 3  \\\n",
       "0              Speed:3.6GHz                Cores:6               TDP:140W   \n",
       "1              Speed:3.6GHz                Cores:6               TDP:140W   \n",
       "2              Speed:3.6GHz                Cores:6               TDP:140W   \n",
       "3              Speed:3.6GHz                Cores:6               TDP:140W   \n",
       "4              Speed:3.6GHz                Cores:6               TDP:140W   \n",
       "...                     ...                    ...                    ...   \n",
       "1107            Series:Gold           Type:7200RPM          Capacity:10TB   \n",
       "1108            Series:Gold           Type:7200RPM          Capacity:10TB   \n",
       "1109            Series:Gold           Type:7200RPM          Capacity:10TB   \n",
       "1110            Series:Gold           Type:7200RPM          Capacity:10TB   \n",
       "1111            Series:Gold           Type:7200RPM          Capacity:10TB   \n",
       "\n",
       "     DESCRIPTION - Detail 4  STANDARD_COST  ...  REGION_ID LOCATION_ID  \\\n",
       "0                       NaN         535.47  ...          3          11   \n",
       "1                       NaN         535.47  ...          3          12   \n",
       "2                       NaN         535.47  ...          2           6   \n",
       "3                       NaN         535.47  ...          2           8   \n",
       "4                       NaN         535.47  ...          3          13   \n",
       "...                     ...            ...  ...        ...         ...   \n",
       "1107            Cache:256MB         313.96  ...          2          23   \n",
       "1108            Cache:256MB         313.96  ...          3          11   \n",
       "1109            Cache:256MB         313.96  ...          2           6   \n",
       "1110            Cache:256MB         313.96  ...          2           9   \n",
       "1111            Cache:256MB         313.96  ...          3          13   \n",
       "\n",
       "      WAREHOUSE_ID  QUANTITY       WAREHOUSE_NAME                ADDRESS  \\\n",
       "0                8        50              Beijing    40-5-12 Laogianggen   \n",
       "1                9        36               Bombay     1298 Vileparle (E)   \n",
       "2                2        97        San Francisco    2011 Interiors Blvd   \n",
       "3                4        67  Seattle, Washington        2004 Charade Rd   \n",
       "4                6        30               Sydney  12-98 Victoria Street   \n",
       "...            ...       ...                  ...                    ...   \n",
       "1107             7       170          Mexico City  Mariano Escobedo 9991   \n",
       "1108             8       156              Beijing    40-5-12 Laogianggen   \n",
       "1109             2       264        San Francisco    2011 Interiors Blvd   \n",
       "1110             5       199              Toronto        147 Spadina Ave   \n",
       "1111             6       184               Sydney  12-98 Victoria Street   \n",
       "\n",
       "     POSTAL_CODE                 CITY            STATE  \\\n",
       "0         190518              Beijing         Shenzhen   \n",
       "1         490231               Bombay      Maharashtra   \n",
       "2          99236  South San Francisco       California   \n",
       "3          98199              Seattle       Washington   \n",
       "4           2901               Sydney  New South Wales   \n",
       "...          ...                  ...              ...   \n",
       "1107       11932            Monterrey       Nuevo León   \n",
       "1108      190518              Beijing         Shenzhen   \n",
       "1109       99236  South San Francisco       California   \n",
       "1110     M5V 2L7              Toronto          Ontario   \n",
       "1111        2901               Sydney  New South Wales   \n",
       "\n",
       "                  COUNTRY_NAME  \n",
       "0                        China  \n",
       "1                        India  \n",
       "2     United States of America  \n",
       "3     United States of America  \n",
       "4                    Australia  \n",
       "...                        ...  \n",
       "1107                    Mexico  \n",
       "1108                     China  \n",
       "1109  United States of America  \n",
       "1110                    Canada  \n",
       "1111                 Australia  \n",
       "\n",
       "[1112 rows x 22 columns]"
      ]
     },
     "execution_count": 4,
     "metadata": {},
     "output_type": "execute_result"
    }
   ],
   "source": [
    "df"
   ]
  },
  {
   "cell_type": "markdown",
   "id": "e9f6bd4c",
   "metadata": {},
   "source": [
    "![](https://media.tenor.com/zuYC6pvC9FoAAAAM/let-us-begin.gif)"
   ]
  },
  {
   "cell_type": "code",
   "execution_count": 5,
   "id": "c9eca505",
   "metadata": {},
   "outputs": [
    {
     "name": "stdout",
     "output_type": "stream",
     "text": [
      "<class 'pandas.core.frame.DataFrame'>\n",
      "RangeIndex: 1112 entries, 0 to 1111\n",
      "Data columns (total 22 columns):\n",
      " #   Column                  Non-Null Count  Dtype  \n",
      "---  ------                  --------------  -----  \n",
      " 0   CATEGORY_ID             1112 non-null   int64  \n",
      " 1   CATEGORY_NAME           1112 non-null   object \n",
      " 2   PRODUCT_ID              1112 non-null   int64  \n",
      " 3   PRODUCT_NAME            1112 non-null   object \n",
      " 4   DESCRIPTION             1112 non-null   object \n",
      " 5   DESCRIPTION - Detail 1  1112 non-null   object \n",
      " 6   DESCRIPTION - Detail 2  1112 non-null   object \n",
      " 7   DESCRIPTION - Detail 3  794 non-null    object \n",
      " 8   DESCRIPTION - Detail 4  350 non-null    object \n",
      " 9   STANDARD_COST           1112 non-null   float64\n",
      " 10  LIST_PRICE              1112 non-null   float64\n",
      " 11  COUNTRY_ID              1112 non-null   object \n",
      " 12  REGION_ID               1112 non-null   int64  \n",
      " 13  LOCATION_ID             1112 non-null   int64  \n",
      " 14  WAREHOUSE_ID            1112 non-null   int64  \n",
      " 15  QUANTITY                1112 non-null   int64  \n",
      " 16  WAREHOUSE_NAME          1112 non-null   object \n",
      " 17  ADDRESS                 1112 non-null   object \n",
      " 18  POSTAL_CODE             1112 non-null   object \n",
      " 19  CITY                    1112 non-null   object \n",
      " 20  STATE                   1112 non-null   object \n",
      " 21  COUNTRY_NAME            1112 non-null   object \n",
      "dtypes: float64(2), int64(6), object(14)\n",
      "memory usage: 191.2+ KB\n",
      "None\n"
     ]
    }
   ],
   "source": [
    "print(df.info())"
   ]
  },
  {
   "cell_type": "code",
   "execution_count": 8,
   "id": "ca2ef0d5",
   "metadata": {},
   "outputs": [],
   "source": [
    "hardware = df.dropna(axis=1)"
   ]
  },
  {
   "cell_type": "markdown",
   "id": "baf40275",
   "metadata": {},
   "source": [
    "## The Real game starts here"
   ]
  },
  {
   "cell_type": "markdown",
   "id": "5f2a6a2b",
   "metadata": {},
   "source": [
    "![](https://media.tenor.com/89pNY5CDNNQAAAAM/this-is-when-fun-begins-fun-begins.gif)"
   ]
  },
  {
   "cell_type": "code",
   "execution_count": 24,
   "id": "d902cb5e",
   "metadata": {},
   "outputs": [],
   "source": [
    "data = hardware.drop(['CATEGORY_ID','PRODUCT_NAME','DESCRIPTION','PRODUCT_ID','REGION_ID','COUNTRY_ID','LOCATION_ID','WAREHOUSE_ID','ADDRESS','POSTAL_CODE'],axis=1)"
   ]
  },
  {
   "cell_type": "code",
   "execution_count": 25,
   "id": "54639fef",
   "metadata": {},
   "outputs": [
    {
     "data": {
      "text/html": [
       "<div>\n",
       "<style scoped>\n",
       "    .dataframe tbody tr th:only-of-type {\n",
       "        vertical-align: middle;\n",
       "    }\n",
       "\n",
       "    .dataframe tbody tr th {\n",
       "        vertical-align: top;\n",
       "    }\n",
       "\n",
       "    .dataframe thead th {\n",
       "        text-align: right;\n",
       "    }\n",
       "</style>\n",
       "<table border=\"1\" class=\"dataframe\">\n",
       "  <thead>\n",
       "    <tr style=\"text-align: right;\">\n",
       "      <th></th>\n",
       "      <th>CATEGORY_NAME</th>\n",
       "      <th>DESCRIPTION - Detail 1</th>\n",
       "      <th>DESCRIPTION - Detail 2</th>\n",
       "      <th>STANDARD_COST</th>\n",
       "      <th>LIST_PRICE</th>\n",
       "      <th>QUANTITY</th>\n",
       "      <th>WAREHOUSE_NAME</th>\n",
       "      <th>CITY</th>\n",
       "      <th>STATE</th>\n",
       "      <th>COUNTRY_NAME</th>\n",
       "    </tr>\n",
       "  </thead>\n",
       "  <tbody>\n",
       "    <tr>\n",
       "      <th>0</th>\n",
       "      <td>CPU</td>\n",
       "      <td>Speed:3.6GHz</td>\n",
       "      <td>Cores:6</td>\n",
       "      <td>535.47</td>\n",
       "      <td>601.99</td>\n",
       "      <td>50</td>\n",
       "      <td>Beijing</td>\n",
       "      <td>Beijing</td>\n",
       "      <td>Shenzhen</td>\n",
       "      <td>China</td>\n",
       "    </tr>\n",
       "    <tr>\n",
       "      <th>1</th>\n",
       "      <td>CPU</td>\n",
       "      <td>Speed:3.6GHz</td>\n",
       "      <td>Cores:6</td>\n",
       "      <td>535.47</td>\n",
       "      <td>601.99</td>\n",
       "      <td>36</td>\n",
       "      <td>Bombay</td>\n",
       "      <td>Bombay</td>\n",
       "      <td>Maharashtra</td>\n",
       "      <td>India</td>\n",
       "    </tr>\n",
       "    <tr>\n",
       "      <th>2</th>\n",
       "      <td>CPU</td>\n",
       "      <td>Speed:3.6GHz</td>\n",
       "      <td>Cores:6</td>\n",
       "      <td>535.47</td>\n",
       "      <td>601.99</td>\n",
       "      <td>97</td>\n",
       "      <td>San Francisco</td>\n",
       "      <td>South San Francisco</td>\n",
       "      <td>California</td>\n",
       "      <td>United States of America</td>\n",
       "    </tr>\n",
       "    <tr>\n",
       "      <th>3</th>\n",
       "      <td>CPU</td>\n",
       "      <td>Speed:3.6GHz</td>\n",
       "      <td>Cores:6</td>\n",
       "      <td>535.47</td>\n",
       "      <td>601.99</td>\n",
       "      <td>67</td>\n",
       "      <td>Seattle, Washington</td>\n",
       "      <td>Seattle</td>\n",
       "      <td>Washington</td>\n",
       "      <td>United States of America</td>\n",
       "    </tr>\n",
       "    <tr>\n",
       "      <th>4</th>\n",
       "      <td>CPU</td>\n",
       "      <td>Speed:3.6GHz</td>\n",
       "      <td>Cores:6</td>\n",
       "      <td>535.47</td>\n",
       "      <td>601.99</td>\n",
       "      <td>30</td>\n",
       "      <td>Sydney</td>\n",
       "      <td>Sydney</td>\n",
       "      <td>New South Wales</td>\n",
       "      <td>Australia</td>\n",
       "    </tr>\n",
       "    <tr>\n",
       "      <th>...</th>\n",
       "      <td>...</td>\n",
       "      <td>...</td>\n",
       "      <td>...</td>\n",
       "      <td>...</td>\n",
       "      <td>...</td>\n",
       "      <td>...</td>\n",
       "      <td>...</td>\n",
       "      <td>...</td>\n",
       "      <td>...</td>\n",
       "      <td>...</td>\n",
       "    </tr>\n",
       "    <tr>\n",
       "      <th>1107</th>\n",
       "      <td>Storage</td>\n",
       "      <td>Series:Gold</td>\n",
       "      <td>Type:7200RPM</td>\n",
       "      <td>313.96</td>\n",
       "      <td>443.64</td>\n",
       "      <td>170</td>\n",
       "      <td>Mexico City</td>\n",
       "      <td>Monterrey</td>\n",
       "      <td>Nuevo León</td>\n",
       "      <td>Mexico</td>\n",
       "    </tr>\n",
       "    <tr>\n",
       "      <th>1108</th>\n",
       "      <td>Storage</td>\n",
       "      <td>Series:Gold</td>\n",
       "      <td>Type:7200RPM</td>\n",
       "      <td>313.96</td>\n",
       "      <td>443.64</td>\n",
       "      <td>156</td>\n",
       "      <td>Beijing</td>\n",
       "      <td>Beijing</td>\n",
       "      <td>Shenzhen</td>\n",
       "      <td>China</td>\n",
       "    </tr>\n",
       "    <tr>\n",
       "      <th>1109</th>\n",
       "      <td>Storage</td>\n",
       "      <td>Series:Gold</td>\n",
       "      <td>Type:7200RPM</td>\n",
       "      <td>313.96</td>\n",
       "      <td>443.64</td>\n",
       "      <td>264</td>\n",
       "      <td>San Francisco</td>\n",
       "      <td>South San Francisco</td>\n",
       "      <td>California</td>\n",
       "      <td>United States of America</td>\n",
       "    </tr>\n",
       "    <tr>\n",
       "      <th>1110</th>\n",
       "      <td>Storage</td>\n",
       "      <td>Series:Gold</td>\n",
       "      <td>Type:7200RPM</td>\n",
       "      <td>313.96</td>\n",
       "      <td>443.64</td>\n",
       "      <td>199</td>\n",
       "      <td>Toronto</td>\n",
       "      <td>Toronto</td>\n",
       "      <td>Ontario</td>\n",
       "      <td>Canada</td>\n",
       "    </tr>\n",
       "    <tr>\n",
       "      <th>1111</th>\n",
       "      <td>Storage</td>\n",
       "      <td>Series:Gold</td>\n",
       "      <td>Type:7200RPM</td>\n",
       "      <td>313.96</td>\n",
       "      <td>443.64</td>\n",
       "      <td>184</td>\n",
       "      <td>Sydney</td>\n",
       "      <td>Sydney</td>\n",
       "      <td>New South Wales</td>\n",
       "      <td>Australia</td>\n",
       "    </tr>\n",
       "  </tbody>\n",
       "</table>\n",
       "<p>1112 rows × 10 columns</p>\n",
       "</div>"
      ],
      "text/plain": [
       "     CATEGORY_NAME DESCRIPTION - Detail 1 DESCRIPTION - Detail 2  \\\n",
       "0              CPU           Speed:3.6GHz                Cores:6   \n",
       "1              CPU           Speed:3.6GHz                Cores:6   \n",
       "2              CPU           Speed:3.6GHz                Cores:6   \n",
       "3              CPU           Speed:3.6GHz                Cores:6   \n",
       "4              CPU           Speed:3.6GHz                Cores:6   \n",
       "...            ...                    ...                    ...   \n",
       "1107       Storage            Series:Gold           Type:7200RPM   \n",
       "1108       Storage            Series:Gold           Type:7200RPM   \n",
       "1109       Storage            Series:Gold           Type:7200RPM   \n",
       "1110       Storage            Series:Gold           Type:7200RPM   \n",
       "1111       Storage            Series:Gold           Type:7200RPM   \n",
       "\n",
       "      STANDARD_COST  LIST_PRICE  QUANTITY       WAREHOUSE_NAME  \\\n",
       "0            535.47      601.99        50              Beijing   \n",
       "1            535.47      601.99        36               Bombay   \n",
       "2            535.47      601.99        97        San Francisco   \n",
       "3            535.47      601.99        67  Seattle, Washington   \n",
       "4            535.47      601.99        30               Sydney   \n",
       "...             ...         ...       ...                  ...   \n",
       "1107         313.96      443.64       170          Mexico City   \n",
       "1108         313.96      443.64       156              Beijing   \n",
       "1109         313.96      443.64       264        San Francisco   \n",
       "1110         313.96      443.64       199              Toronto   \n",
       "1111         313.96      443.64       184               Sydney   \n",
       "\n",
       "                     CITY            STATE              COUNTRY_NAME  \n",
       "0                 Beijing         Shenzhen                     China  \n",
       "1                  Bombay      Maharashtra                     India  \n",
       "2     South San Francisco       California  United States of America  \n",
       "3                 Seattle       Washington  United States of America  \n",
       "4                  Sydney  New South Wales                 Australia  \n",
       "...                   ...              ...                       ...  \n",
       "1107            Monterrey       Nuevo León                    Mexico  \n",
       "1108              Beijing         Shenzhen                     China  \n",
       "1109  South San Francisco       California  United States of America  \n",
       "1110              Toronto          Ontario                    Canada  \n",
       "1111               Sydney  New South Wales                 Australia  \n",
       "\n",
       "[1112 rows x 10 columns]"
      ]
     },
     "execution_count": 25,
     "metadata": {},
     "output_type": "execute_result"
    }
   ],
   "source": [
    "data"
   ]
  },
  {
   "cell_type": "code",
   "execution_count": 26,
   "id": "553c087a",
   "metadata": {},
   "outputs": [],
   "source": [
    "list_of_categorical_columns =  data.select_dtypes(include=['object']).columns"
   ]
  },
  {
   "cell_type": "code",
   "execution_count": 27,
   "id": "5b5ccb56",
   "metadata": {},
   "outputs": [
    {
     "data": {
      "text/plain": [
       "Index(['CATEGORY_NAME', 'DESCRIPTION - Detail 1', 'DESCRIPTION - Detail 2',\n",
       "       'WAREHOUSE_NAME', 'CITY', 'STATE', 'COUNTRY_NAME'],\n",
       "      dtype='object')"
      ]
     },
     "execution_count": 27,
     "metadata": {},
     "output_type": "execute_result"
    }
   ],
   "source": [
    "list_of_categorical_columns"
   ]
  },
  {
   "cell_type": "markdown",
   "id": "26f496b7",
   "metadata": {},
   "source": [
    "## Convert categories into numbers - Label Encoding"
   ]
  },
  {
   "cell_type": "code",
   "execution_count": 28,
   "id": "ebe452be",
   "metadata": {},
   "outputs": [],
   "source": [
    "from sklearn.preprocessing import LabelEncoder\n",
    "le=LabelEncoder()"
   ]
  },
  {
   "cell_type": "code",
   "execution_count": 29,
   "id": "90a570cb",
   "metadata": {},
   "outputs": [],
   "source": [
    "for i in list_of_categorical_columns:\n",
    "    data[i]=le.fit_transform(data[i])"
   ]
  },
  {
   "cell_type": "code",
   "execution_count": 30,
   "id": "48910725",
   "metadata": {
    "scrolled": true
   },
   "outputs": [
    {
     "data": {
      "text/html": [
       "<div>\n",
       "<style scoped>\n",
       "    .dataframe tbody tr th:only-of-type {\n",
       "        vertical-align: middle;\n",
       "    }\n",
       "\n",
       "    .dataframe tbody tr th {\n",
       "        vertical-align: top;\n",
       "    }\n",
       "\n",
       "    .dataframe thead th {\n",
       "        text-align: right;\n",
       "    }\n",
       "</style>\n",
       "<table border=\"1\" class=\"dataframe\">\n",
       "  <thead>\n",
       "    <tr style=\"text-align: right;\">\n",
       "      <th></th>\n",
       "      <th>CATEGORY_NAME</th>\n",
       "      <th>DESCRIPTION - Detail 1</th>\n",
       "      <th>DESCRIPTION - Detail 2</th>\n",
       "      <th>STANDARD_COST</th>\n",
       "      <th>LIST_PRICE</th>\n",
       "      <th>QUANTITY</th>\n",
       "      <th>WAREHOUSE_NAME</th>\n",
       "      <th>CITY</th>\n",
       "      <th>STATE</th>\n",
       "      <th>COUNTRY_NAME</th>\n",
       "    </tr>\n",
       "  </thead>\n",
       "  <tbody>\n",
       "    <tr>\n",
       "      <th>0</th>\n",
       "      <td>0</td>\n",
       "      <td>71</td>\n",
       "      <td>7</td>\n",
       "      <td>535.47</td>\n",
       "      <td>601.99</td>\n",
       "      <td>50</td>\n",
       "      <td>0</td>\n",
       "      <td>0</td>\n",
       "      <td>6</td>\n",
       "      <td>2</td>\n",
       "    </tr>\n",
       "    <tr>\n",
       "      <th>1</th>\n",
       "      <td>0</td>\n",
       "      <td>71</td>\n",
       "      <td>7</td>\n",
       "      <td>535.47</td>\n",
       "      <td>601.99</td>\n",
       "      <td>36</td>\n",
       "      <td>1</td>\n",
       "      <td>1</td>\n",
       "      <td>1</td>\n",
       "      <td>3</td>\n",
       "    </tr>\n",
       "    <tr>\n",
       "      <th>2</th>\n",
       "      <td>0</td>\n",
       "      <td>71</td>\n",
       "      <td>7</td>\n",
       "      <td>535.47</td>\n",
       "      <td>601.99</td>\n",
       "      <td>97</td>\n",
       "      <td>4</td>\n",
       "      <td>5</td>\n",
       "      <td>0</td>\n",
       "      <td>5</td>\n",
       "    </tr>\n",
       "    <tr>\n",
       "      <th>3</th>\n",
       "      <td>0</td>\n",
       "      <td>71</td>\n",
       "      <td>7</td>\n",
       "      <td>535.47</td>\n",
       "      <td>601.99</td>\n",
       "      <td>67</td>\n",
       "      <td>5</td>\n",
       "      <td>3</td>\n",
       "      <td>8</td>\n",
       "      <td>5</td>\n",
       "    </tr>\n",
       "    <tr>\n",
       "      <th>4</th>\n",
       "      <td>0</td>\n",
       "      <td>71</td>\n",
       "      <td>7</td>\n",
       "      <td>535.47</td>\n",
       "      <td>601.99</td>\n",
       "      <td>30</td>\n",
       "      <td>7</td>\n",
       "      <td>7</td>\n",
       "      <td>3</td>\n",
       "      <td>0</td>\n",
       "    </tr>\n",
       "    <tr>\n",
       "      <th>...</th>\n",
       "      <td>...</td>\n",
       "      <td>...</td>\n",
       "      <td>...</td>\n",
       "      <td>...</td>\n",
       "      <td>...</td>\n",
       "      <td>...</td>\n",
       "      <td>...</td>\n",
       "      <td>...</td>\n",
       "      <td>...</td>\n",
       "      <td>...</td>\n",
       "    </tr>\n",
       "    <tr>\n",
       "      <th>1107</th>\n",
       "      <td>2</td>\n",
       "      <td>47</td>\n",
       "      <td>49</td>\n",
       "      <td>313.96</td>\n",
       "      <td>443.64</td>\n",
       "      <td>170</td>\n",
       "      <td>2</td>\n",
       "      <td>2</td>\n",
       "      <td>4</td>\n",
       "      <td>4</td>\n",
       "    </tr>\n",
       "    <tr>\n",
       "      <th>1108</th>\n",
       "      <td>2</td>\n",
       "      <td>47</td>\n",
       "      <td>49</td>\n",
       "      <td>313.96</td>\n",
       "      <td>443.64</td>\n",
       "      <td>156</td>\n",
       "      <td>0</td>\n",
       "      <td>0</td>\n",
       "      <td>6</td>\n",
       "      <td>2</td>\n",
       "    </tr>\n",
       "    <tr>\n",
       "      <th>1109</th>\n",
       "      <td>2</td>\n",
       "      <td>47</td>\n",
       "      <td>49</td>\n",
       "      <td>313.96</td>\n",
       "      <td>443.64</td>\n",
       "      <td>264</td>\n",
       "      <td>4</td>\n",
       "      <td>5</td>\n",
       "      <td>0</td>\n",
       "      <td>5</td>\n",
       "    </tr>\n",
       "    <tr>\n",
       "      <th>1110</th>\n",
       "      <td>2</td>\n",
       "      <td>47</td>\n",
       "      <td>49</td>\n",
       "      <td>313.96</td>\n",
       "      <td>443.64</td>\n",
       "      <td>199</td>\n",
       "      <td>8</td>\n",
       "      <td>8</td>\n",
       "      <td>5</td>\n",
       "      <td>1</td>\n",
       "    </tr>\n",
       "    <tr>\n",
       "      <th>1111</th>\n",
       "      <td>2</td>\n",
       "      <td>47</td>\n",
       "      <td>49</td>\n",
       "      <td>313.96</td>\n",
       "      <td>443.64</td>\n",
       "      <td>184</td>\n",
       "      <td>7</td>\n",
       "      <td>7</td>\n",
       "      <td>3</td>\n",
       "      <td>0</td>\n",
       "    </tr>\n",
       "  </tbody>\n",
       "</table>\n",
       "<p>1112 rows × 10 columns</p>\n",
       "</div>"
      ],
      "text/plain": [
       "      CATEGORY_NAME  DESCRIPTION - Detail 1  DESCRIPTION - Detail 2  \\\n",
       "0                 0                      71                       7   \n",
       "1                 0                      71                       7   \n",
       "2                 0                      71                       7   \n",
       "3                 0                      71                       7   \n",
       "4                 0                      71                       7   \n",
       "...             ...                     ...                     ...   \n",
       "1107              2                      47                      49   \n",
       "1108              2                      47                      49   \n",
       "1109              2                      47                      49   \n",
       "1110              2                      47                      49   \n",
       "1111              2                      47                      49   \n",
       "\n",
       "      STANDARD_COST  LIST_PRICE  QUANTITY  WAREHOUSE_NAME  CITY  STATE  \\\n",
       "0            535.47      601.99        50               0     0      6   \n",
       "1            535.47      601.99        36               1     1      1   \n",
       "2            535.47      601.99        97               4     5      0   \n",
       "3            535.47      601.99        67               5     3      8   \n",
       "4            535.47      601.99        30               7     7      3   \n",
       "...             ...         ...       ...             ...   ...    ...   \n",
       "1107         313.96      443.64       170               2     2      4   \n",
       "1108         313.96      443.64       156               0     0      6   \n",
       "1109         313.96      443.64       264               4     5      0   \n",
       "1110         313.96      443.64       199               8     8      5   \n",
       "1111         313.96      443.64       184               7     7      3   \n",
       "\n",
       "      COUNTRY_NAME  \n",
       "0                2  \n",
       "1                3  \n",
       "2                5  \n",
       "3                5  \n",
       "4                0  \n",
       "...            ...  \n",
       "1107             4  \n",
       "1108             2  \n",
       "1109             5  \n",
       "1110             1  \n",
       "1111             0  \n",
       "\n",
       "[1112 rows x 10 columns]"
      ]
     },
     "execution_count": 30,
     "metadata": {},
     "output_type": "execute_result"
    }
   ],
   "source": [
    "data"
   ]
  },
  {
   "cell_type": "code",
   "execution_count": 32,
   "id": "34bcb61d",
   "metadata": {},
   "outputs": [],
   "source": [
    "x=data[['CATEGORY_NAME','DESCRIPTION - Detail 1','DESCRIPTION - Detail 2','STANDARD_COST','QUANTITY','WAREHOUSE_NAME','CITY','STATE','COUNTRY_NAME']]"
   ]
  },
  {
   "cell_type": "code",
   "execution_count": 33,
   "id": "c614cab3",
   "metadata": {},
   "outputs": [],
   "source": [
    "y=data['LIST_PRICE']"
   ]
  },
  {
   "cell_type": "markdown",
   "id": "6c4a0ba9",
   "metadata": {},
   "source": [
    "# Train and Test"
   ]
  },
  {
   "cell_type": "code",
   "execution_count": 34,
   "id": "cb531eaa",
   "metadata": {},
   "outputs": [],
   "source": [
    "from sklearn.model_selection import train_test_split"
   ]
  },
  {
   "cell_type": "code",
   "execution_count": 35,
   "id": "fb715dc3",
   "metadata": {},
   "outputs": [],
   "source": [
    "x_train,x_test,y_train,y_test=train_test_split(x,y,random_state=0,test_size=0.2)"
   ]
  },
  {
   "cell_type": "code",
   "execution_count": 36,
   "id": "ed958df4",
   "metadata": {},
   "outputs": [
    {
     "name": "stdout",
     "output_type": "stream",
     "text": [
      "889\n",
      "223\n",
      "889\n",
      "223\n"
     ]
    }
   ],
   "source": [
    "print(len(x_train))\n",
    "print(len(x_test))\n",
    "print(len(y_train))\n",
    "print(len(y_test))"
   ]
  },
  {
   "cell_type": "markdown",
   "id": "8ffc96c0",
   "metadata": {},
   "source": [
    "# Linear Regression"
   ]
  },
  {
   "cell_type": "code",
   "execution_count": 37,
   "id": "e46bf0ed",
   "metadata": {},
   "outputs": [],
   "source": [
    "from sklearn.linear_model import LinearRegression"
   ]
  },
  {
   "cell_type": "code",
   "execution_count": 38,
   "id": "ec130b50",
   "metadata": {},
   "outputs": [],
   "source": [
    "lr = LinearRegression()"
   ]
  },
  {
   "cell_type": "code",
   "execution_count": 39,
   "id": "514bfe1c",
   "metadata": {},
   "outputs": [
    {
     "data": {
      "text/plain": [
       "LinearRegression()"
      ]
     },
     "execution_count": 39,
     "metadata": {},
     "output_type": "execute_result"
    }
   ],
   "source": [
    "lr.fit(x_train,y_train)"
   ]
  },
  {
   "cell_type": "code",
   "execution_count": 40,
   "id": "c4501109",
   "metadata": {},
   "outputs": [],
   "source": [
    "y_pred = lr.predict(x_test)"
   ]
  },
  {
   "cell_type": "code",
   "execution_count": 41,
   "id": "28f9e0d8",
   "metadata": {},
   "outputs": [
    {
     "data": {
      "text/plain": [
       "223"
      ]
     },
     "execution_count": 41,
     "metadata": {},
     "output_type": "execute_result"
    }
   ],
   "source": [
    "len(y_test)"
   ]
  },
  {
   "cell_type": "code",
   "execution_count": 42,
   "id": "ae9b9672",
   "metadata": {},
   "outputs": [
    {
     "data": {
      "text/plain": [
       "223"
      ]
     },
     "execution_count": 42,
     "metadata": {},
     "output_type": "execute_result"
    }
   ],
   "source": [
    "len(y_pred)"
   ]
  },
  {
   "cell_type": "code",
   "execution_count": 43,
   "id": "2c25d659",
   "metadata": {},
   "outputs": [],
   "source": [
    "from sklearn.metrics import r2_score,mean_squared_error"
   ]
  },
  {
   "cell_type": "code",
   "execution_count": 44,
   "id": "885ab64f",
   "metadata": {},
   "outputs": [],
   "source": [
    "mse = mean_squared_error(y_test,y_pred)"
   ]
  },
  {
   "cell_type": "code",
   "execution_count": 45,
   "id": "d9681b63",
   "metadata": {},
   "outputs": [],
   "source": [
    "rsq = r2_score(y_test,y_pred)"
   ]
  },
  {
   "cell_type": "code",
   "execution_count": 46,
   "id": "3d6b49d5",
   "metadata": {},
   "outputs": [
    {
     "name": "stdout",
     "output_type": "stream",
     "text": [
      "mean squared error : 5814.988590139142\n",
      "r square : 0.9935516810689574\n"
     ]
    }
   ],
   "source": [
    "print('mean squared error :',mse)\n",
    "print('r square :',rsq)"
   ]
  },
  {
   "cell_type": "markdown",
   "id": "ef5c6b20",
   "metadata": {},
   "source": [
    "## Decision Tree"
   ]
  },
  {
   "cell_type": "code",
   "execution_count": 47,
   "id": "4e749492",
   "metadata": {},
   "outputs": [],
   "source": [
    "from sklearn.tree import DecisionTreeRegressor"
   ]
  },
  {
   "cell_type": "code",
   "execution_count": 48,
   "id": "cec4b8be",
   "metadata": {},
   "outputs": [],
   "source": [
    "clf = DecisionTreeRegressor(min_samples_split=200)"
   ]
  },
  {
   "cell_type": "code",
   "execution_count": 49,
   "id": "2be2c080",
   "metadata": {},
   "outputs": [
    {
     "data": {
      "text/plain": [
       "DecisionTreeRegressor(min_samples_split=200)"
      ]
     },
     "execution_count": 49,
     "metadata": {},
     "output_type": "execute_result"
    }
   ],
   "source": [
    "clf.fit(x_train, y_train)"
   ]
  },
  {
   "cell_type": "code",
   "execution_count": 50,
   "id": "c0ed5051",
   "metadata": {},
   "outputs": [],
   "source": [
    "y_pred = clf.predict(x_test)"
   ]
  },
  {
   "cell_type": "code",
   "execution_count": 51,
   "id": "1962cb7c",
   "metadata": {},
   "outputs": [
    {
     "name": "stdout",
     "output_type": "stream",
     "text": [
      "Mean Squared Error: 244042.7874958047\n",
      "R-squared: 0.7293776759489845\n"
     ]
    }
   ],
   "source": [
    "mse_tree= mean_squared_error(y_test, y_pred)\n",
    "r2_tree = r2_score(y_test, y_pred)\n",
    "print(\"Mean Squared Error:\", mse_tree)\n",
    "print(\"R-squared:\", r2_tree)"
   ]
  },
  {
   "cell_type": "code",
   "execution_count": 52,
   "id": "6839ee32",
   "metadata": {},
   "outputs": [
    {
     "data": {
      "image/png": "[encoded data removed]",
      "text/plain": [
       "<Figure size 1200x1200 with 1 Axes>"
      ]
     },
     "metadata": {},
     "output_type": "display_data"
    }
   ],
   "source": [
    "from sklearn import tree\n",
    "import matplotlib.pyplot as plt\n",
    "\n",
    "plt.figure(figsize=(12,12))\n",
    "tree.plot_tree(clf,fontsize=10)\n",
    "plt.show()"
   ]
  },
  {
   "cell_type": "markdown",
   "id": "81846aa0",
   "metadata": {},
   "source": [
    "![](https://media.tenor.com/visJrdbmUQYAAAAM/i-cant-function-the-black-hokage.gif)"
   ]
  },
  {
   "cell_type": "markdown",
   "id": "35013a28",
   "metadata": {},
   "source": [
    "## Function"
   ]
  },
  {
   "cell_type": "code",
   "execution_count": 68,
   "id": "139b5a8e",
   "metadata": {},
   "outputs": [
    {
     "ename": "FileNotFoundError",
     "evalue": "[Errno 2] No such file or directory: 'clf.pkl'",
     "output_type": "error",
     "traceback": [
      "\u001b[1;31m---------------------------------------------------------------------------\u001b[0m",
      "\u001b[1;31mFileNotFoundError\u001b[0m                         Traceback (most recent call last)",
      "\u001b[1;32m~\\AppData\\Local\\Temp\\ipykernel_10312\\208934567.py\u001b[0m in \u001b[0;36m<module>\u001b[1;34m\u001b[0m\n\u001b[0;32m      6\u001b[0m \u001b[0mmodel_path\u001b[0m \u001b[1;33m=\u001b[0m \u001b[1;34m'clf.pkl'\u001b[0m\u001b[1;33m\u001b[0m\u001b[1;33m\u001b[0m\u001b[0m\n\u001b[0;32m      7\u001b[0m \u001b[1;33m\u001b[0m\u001b[0m\n\u001b[1;32m----> 8\u001b[1;33m \u001b[1;32mwith\u001b[0m \u001b[0mopen\u001b[0m\u001b[1;33m(\u001b[0m\u001b[0mmodel_path\u001b[0m\u001b[1;33m,\u001b[0m \u001b[1;34m'rb'\u001b[0m\u001b[1;33m)\u001b[0m \u001b[1;32mas\u001b[0m \u001b[0mf\u001b[0m\u001b[1;33m:\u001b[0m\u001b[1;33m\u001b[0m\u001b[1;33m\u001b[0m\u001b[0m\n\u001b[0m\u001b[0;32m      9\u001b[0m     \u001b[0mclf\u001b[0m \u001b[1;33m=\u001b[0m \u001b[0mpickle\u001b[0m\u001b[1;33m.\u001b[0m\u001b[0mload\u001b[0m\u001b[1;33m(\u001b[0m\u001b[0mf\u001b[0m\u001b[1;33m)\u001b[0m\u001b[1;33m\u001b[0m\u001b[1;33m\u001b[0m\u001b[0m\n\u001b[0;32m     10\u001b[0m \u001b[1;33m\u001b[0m\u001b[0m\n",
      "\u001b[1;31mFileNotFoundError\u001b[0m: [Errno 2] No such file or directory: 'clf.pkl'"
     ]
    }
   ],
   "source": [
    "import pandas as pd\n",
    "import numpy as np\n",
    "import pickle\n",
    "\n",
    "# Set path to saved model\n",
    "model_path = 'clf.pkl'\n",
    "\n",
    "with open(model_path, 'rb') as a:\n",
    "    clf = pickle.load(a)\n",
    "\n",
    "def predict_listprice(category, description, warehouse, cost, quantity):\n",
    "    # Load saved Decision Tree Regressor model\n",
    "    clf = pickle.load('dt_reg.pkl')\n",
    "\n",
    "    # Load saved LabelEncoder object\n",
    "    le = pickle.load('label_encoder.pkl')\n",
    "\n",
    "    # Create dataframe from user input\n",
    "    item_df = pd.DataFrame({\n",
    "        'Category': [category],\n",
    "        'Description': [description],\n",
    "        'Warehouse': [warehouse],\n",
    "        'Cost': [cost],\n",
    "        'Quantity': [quantity]\n",
    "    })\n",
    "\n",
    "    # Split categorical and numerical columns into separate dataframes\n",
    "    cat_cols = ['Category', 'Description', 'Warehouse']\n",
    "    num_cols = ['Cost', 'Quantity']\n",
    "    cat_df = item_df[cat_cols]\n",
    "    num_df = item_df[num_cols]\n",
    "\n",
    "    # Encode categorical columns using loaded LabelEncoder object\n",
    "    cat_df_encoded = cat_df.apply(lambda col: le.transform(col))\n",
    "\n",
    "    # Combine encoded categorical and numerical columns into single dataframe\n",
    "    item_df_encoded = pd.concat([cat_df_encoded, num_df], axis=1)\n",
    "\n",
    "    # Make prediction using Decision Tree Regressor model\n",
    "    listprice_pred = dt_reg.predict(item_df_encoded)[0]\n",
    "\n",
    "    # Convert encoded label back to original label using inverse_transform\n",
    "    category_pred, description_pred, detail_pred = le.inverse_transform(cat_df_encoded[cat_cols].values)\n",
    "    \n",
    "    # Combine predicted list price, encoded categorical variables, and numerical variables into single dataframe\n",
    "    item_df_pred = pd.DataFrame({\n",
    "        'Category': [category_pred],\n",
    "        'Description': [description_pred],\n",
    "        'warehouse': [warehouse_pred],\n",
    "        'Cost': [cost],\n",
    "        'Quantity': [quantity],\n",
    "        'ListPrice': [listprice_pred]\n",
    "    })\n",
    "\n",
    "    return item_df_pred"
   ]
  },
  {
   "cell_type": "markdown",
   "id": "2777dd2a",
   "metadata": {},
   "source": [
    "![](https://media.tenor.com/7nSGImHak6wAAAAM/dead-or-alive-in-too-deep.gif)"
   ]
  },
  {
   "cell_type": "markdown",
   "id": "50bb5d4f",
   "metadata": {},
   "source": [
    "![](https://media.tenor.com/6nzQjqcBjaUAAAAM/stuck-trapped.gif)"
   ]
  }
 ],
 "metadata": {
  "kernelspec": {
   "display_name": "Python 3 (ipykernel)",
   "language": "python",
   "name": "python3"
  },
  "language_info": {
   "codemirror_mode": {
    "name": "ipython",
    "version": 3
   },
   "file_extension": ".py",
   "mimetype": "text/x-python",
   "name": "python",
   "nbconvert_exporter": "python",
   "pygments_lexer": "ipython3",
   "version": "3.9.13"
  }
 },
 "nbformat": 4,
 "nbformat_minor": 5
}
